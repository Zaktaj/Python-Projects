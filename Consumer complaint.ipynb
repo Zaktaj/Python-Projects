{
 "cells": [
  {
   "cell_type": "code",
   "execution_count": 1,
   "id": "fb27ed08",
   "metadata": {},
   "outputs": [],
   "source": [
    "import pandas as pd\n",
    "import numpy as np\n",
    "import warnings\n",
    "warnings.filterwarnings('ignore')\n",
    "\n",
    "from sklearn.linear_model import LogisticRegression\n",
    "from sklearn.model_selection import GridSearchCV"
   ]
  },
  {
   "cell_type": "markdown",
   "id": "83879574",
   "metadata": {},
   "source": [
    "# Data Cleaning"
   ]
  },
  {
   "cell_type": "code",
   "execution_count": 2,
   "id": "9b95bfe8",
   "metadata": {},
   "outputs": [],
   "source": [
    "train=pd.read_csv('C:/Users/Hp/OneDrive/Documents/IIT KANPUR PYTHON/1st PROJECT/Consumer_Complaints_train.csv')"
   ]
  },
  {
   "cell_type": "code",
   "execution_count": 3,
   "id": "031e5424",
   "metadata": {},
   "outputs": [],
   "source": [
    "test=pd.read_csv('C:/Users/Hp/OneDrive/Documents/IIT KANPUR PYTHON/1st PROJECT/Consumer_Complaints_test_share.csv')"
   ]
  },
  {
   "cell_type": "code",
   "execution_count": 4,
   "id": "5a492fe2",
   "metadata": {},
   "outputs": [],
   "source": [
    "for col in ['Date received','Date sent to company']:\n",
    "    train[col]=pd.to_datetime(train[col],infer_datetime_format=True)\n",
    "    test[col]=pd.to_datetime(test[col],infer_datetime_format=True)"
   ]
  },
  {
   "cell_type": "code",
   "execution_count": 5,
   "id": "2dbbcdca",
   "metadata": {},
   "outputs": [],
   "source": [
    "train['day_diff']=pd.to_numeric(train['Date sent to company']-train['Date received'])\n",
    "test['day_diff']=pd.to_numeric(test['Date sent to company']-test['Date received'])"
   ]
  },
  {
   "cell_type": "code",
   "execution_count": 6,
   "id": "ae1f1f8f",
   "metadata": {},
   "outputs": [],
   "source": [
    "for col in ['Date received','Date sent to company']:\n",
    "    train.drop([col],1,inplace=True)\n",
    "    test.drop([col],1,inplace=True)"
   ]
  },
  {
   "cell_type": "code",
   "execution_count": 7,
   "id": "83791ef2",
   "metadata": {},
   "outputs": [
    {
     "name": "stdout",
     "output_type": "stream",
     "text": [
      "Product : 12\n",
      "Sub-product : 47\n",
      "Issue : 95\n",
      "Sub-issue : 68\n",
      "Consumer complaint narrative : 74019\n",
      "Company public response : 10\n",
      "Company : 3276\n",
      "State : 62\n",
      "ZIP code : 25962\n",
      "Tags : 3\n",
      "Consumer consent provided? : 4\n",
      "Submitted via : 6\n",
      "Company response to consumer : 7\n",
      "Timely response? : 2\n",
      "Consumer disputed? : 2\n"
     ]
    }
   ],
   "source": [
    "for col in train.select_dtypes(['object']).columns:\n",
    "    print(col,':',train[col].nunique())"
   ]
  },
  {
   "cell_type": "code",
   "execution_count": 8,
   "id": "c8589549",
   "metadata": {},
   "outputs": [],
   "source": [
    "for col in ['Sub-product','Sub-issue','Consumer complaint narrative',\n",
    "            'Company public response','Tags','Consumer consent provided?']:\n",
    "    varname=col.replace('-','_').replace('?','').replace(\" \",'_')+'_isNan'\n",
    "    train[varname]=np.where(pd.isnull(train[col]),1,0)\n",
    "    train.drop([col],1,inplace=True)\n",
    "    test[varname]=np.where(pd.isnull(test[col]),1,0)\n",
    "    test.drop([col],1,inplace=True)"
   ]
  },
  {
   "cell_type": "code",
   "execution_count": 9,
   "id": "737dea03",
   "metadata": {},
   "outputs": [
    {
     "name": "stdout",
     "output_type": "stream",
     "text": [
      "Product : 12\n",
      "Issue : 95\n",
      "Company : 3276\n",
      "State : 62\n",
      "ZIP code : 25962\n",
      "Submitted via : 6\n",
      "Company response to consumer : 7\n",
      "Timely response? : 2\n",
      "Consumer disputed? : 2\n"
     ]
    }
   ],
   "source": [
    "for col in train.select_dtypes(['object']).columns:\n",
    "    print(col,':',train[col].nunique())"
   ]
  },
  {
   "cell_type": "code",
   "execution_count": 10,
   "id": "c5318b53",
   "metadata": {},
   "outputs": [],
   "source": [
    "for col in ['ZIP code','Company']:\n",
    "    train.drop([col],1,inplace=True)\n",
    "    test.drop([col],1,inplace=True)"
   ]
  },
  {
   "cell_type": "code",
   "execution_count": 11,
   "id": "92214138",
   "metadata": {},
   "outputs": [],
   "source": [
    "train['Consumer disputed?']=np.where(train['Consumer disputed?']==\"Yes\",1,0)"
   ]
  },
  {
   "cell_type": "code",
   "execution_count": 12,
   "id": "5d612be1",
   "metadata": {},
   "outputs": [],
   "source": [
    "k=train['Issue'].value_counts()\n",
    "for val in k.axes[0][0:10]:\n",
    "    varname='Issue_'+val.replace(',','_').replace(' ','_')\n",
    "    train[varname]=np.where(train['Issue']==val,1,0)\n",
    "    test[varname]=np.where(test['Issue']==val,1,0)\n",
    "del train['Issue']\n",
    "del test['Issue']"
   ]
  },
  {
   "cell_type": "code",
   "execution_count": 13,
   "id": "e726d6f6",
   "metadata": {},
   "outputs": [
    {
     "name": "stdout",
     "output_type": "stream",
     "text": [
      "Product : 12\n",
      "State : 62\n",
      "Submitted via : 6\n",
      "Company response to consumer : 7\n",
      "Timely response? : 2\n"
     ]
    }
   ],
   "source": [
    "for col in train.select_dtypes(['object']).columns:\n",
    "    print(col,':',train[col].nunique())"
   ]
  },
  {
   "cell_type": "code",
   "execution_count": 14,
   "id": "fe7ce1b7",
   "metadata": {},
   "outputs": [],
   "source": [
    "k=train['State'].value_counts()\n",
    "for val in k.axes[0][0:15]:\n",
    "    varname='State_'+val.replace(',','_').replace(' ','_')\n",
    "    train[varname]=np.where(train['State']==val,1,0)\n",
    "    test[varname]=np.where(test['State']==val,1,0)\n",
    "del train['State']\n",
    "del test['State']"
   ]
  },
  {
   "cell_type": "code",
   "execution_count": 15,
   "id": "0936d0d0",
   "metadata": {},
   "outputs": [],
   "source": [
    "for col in ['Product','Submitted via','Company response to consumer','Timely response?']:\n",
    "    \n",
    "    temp=pd.get_dummies(train[col],prefix=col,drop_first=True)\n",
    "    train=pd.concat([temp,train],1)\n",
    "    train.drop([col],1,inplace=True)\n",
    "    \n",
    "    temp=pd.get_dummies(test[col],prefix=col,drop_first=True)\n",
    "    test=pd.concat([temp,test],1)\n",
    "    test.drop([col],1,inplace=True)"
   ]
  },
  {
   "cell_type": "markdown",
   "id": "fd022eae",
   "metadata": {},
   "source": [
    "# Logistic Regression"
   ]
  },
  {
   "cell_type": "code",
   "execution_count": 16,
   "id": "5c64a75e",
   "metadata": {},
   "outputs": [],
   "source": [
    "x=train.drop(['Consumer disputed?','Complaint ID'],1)\n",
    "y=train['Consumer disputed?']"
   ]
  },
  {
   "cell_type": "code",
   "execution_count": 17,
   "id": "17c4e0c2",
   "metadata": {},
   "outputs": [],
   "source": [
    "params={'class_weight':['balanced',None],\n",
    "        'penalty':['l1','l2'],\n",
    "        'C':[.0001,.0005,.001,.005,.01,.05,.1,1,2,5]}"
   ]
  },
  {
   "cell_type": "code",
   "execution_count": 18,
   "id": "8b31ebc2",
   "metadata": {},
   "outputs": [],
   "source": [
    "params={'class_weight':['balanced',None],\n",
    "        'penalty':['l1','l2'],\n",
    "        'C':[.0001,.0005,.001,.005,.01]}"
   ]
  },
  {
   "cell_type": "code",
   "execution_count": 19,
   "id": "03b7794e",
   "metadata": {},
   "outputs": [],
   "source": [
    "model=LogisticRegression()"
   ]
  },
  {
   "cell_type": "code",
   "execution_count": 20,
   "id": "03a462fa",
   "metadata": {},
   "outputs": [],
   "source": [
    "grid_search=GridSearchCV(model,\n",
    "                         param_grid=params,\n",
    "                         cv=10,\n",
    "                         scoring=\"roc_auc\",\n",
    "                         n_jobs=-1,\n",
    "                         verbose=20)"
   ]
  },
  {
   "cell_type": "code",
   "execution_count": 21,
   "id": "753004cb",
   "metadata": {},
   "outputs": [
    {
     "name": "stdout",
     "output_type": "stream",
     "text": [
      "Fitting 10 folds for each of 20 candidates, totalling 200 fits\n"
     ]
    },
    {
     "data": {
      "text/plain": [
       "GridSearchCV(cv=10, estimator=LogisticRegression(), n_jobs=-1,\n",
       "             param_grid={'C': [0.0001, 0.0005, 0.001, 0.005, 0.01],\n",
       "                         'class_weight': ['balanced', None],\n",
       "                         'penalty': ['l1', 'l2']},\n",
       "             scoring='roc_auc', verbose=20)"
      ]
     },
     "execution_count": 21,
     "metadata": {},
     "output_type": "execute_result"
    }
   ],
   "source": [
    "grid_search.fit(x,y)"
   ]
  },
  {
   "cell_type": "code",
   "execution_count": 22,
   "id": "ed5a1159",
   "metadata": {},
   "outputs": [],
   "source": [
    "def report(results, n_top=3):\n",
    "    for i in range(1, n_top + 1):\n",
    "        candidates = np.flatnonzero(results['rank_test_score'] == i)\n",
    "        for candidate in candidates:\n",
    "            print(\"Model with rank: {0}\".format(i))\n",
    "            print(\"Mean validation score: {0:.6f} (std: {1:.6f})\".format(\n",
    "                  results['mean_test_score'][candidate],\n",
    "                  results['std_test_score'][candidate]))\n",
    "            print(\"Parameters: {0}\".format(results['params'][candidate]))\n",
    "            print(\"\")"
   ]
  },
  {
   "cell_type": "code",
   "execution_count": 23,
   "id": "f9e228f5",
   "metadata": {},
   "outputs": [
    {
     "name": "stdout",
     "output_type": "stream",
     "text": [
      "Model with rank: 1\n",
      "Mean validation score: 0.544694 (std: 0.002791)\n",
      "Parameters: {'C': 0.0001, 'class_weight': 'balanced', 'penalty': 'l2'}\n",
      "\n",
      "Model with rank: 1\n",
      "Mean validation score: 0.544694 (std: 0.002791)\n",
      "Parameters: {'C': 0.0005, 'class_weight': 'balanced', 'penalty': 'l2'}\n",
      "\n",
      "Model with rank: 1\n",
      "Mean validation score: 0.544694 (std: 0.002791)\n",
      "Parameters: {'C': 0.001, 'class_weight': 'balanced', 'penalty': 'l2'}\n",
      "\n",
      "Model with rank: 1\n",
      "Mean validation score: 0.544694 (std: 0.002791)\n",
      "Parameters: {'C': 0.005, 'class_weight': 'balanced', 'penalty': 'l2'}\n",
      "\n",
      "Model with rank: 1\n",
      "Mean validation score: 0.544694 (std: 0.002791)\n",
      "Parameters: {'C': 0.01, 'class_weight': 'balanced', 'penalty': 'l2'}\n",
      "\n"
     ]
    }
   ],
   "source": [
    "report(grid_search.cv_results_,5)"
   ]
  },
  {
   "cell_type": "code",
   "execution_count": 30,
   "id": "fff5dede",
   "metadata": {},
   "outputs": [],
   "source": [
    "logistic_r=LogisticRegression(**{'C': 0.001, 'class_weight': 'balanced', 'penalty': 'l2'})"
   ]
  },
  {
   "cell_type": "code",
   "execution_count": 24,
   "id": "3786b8ad",
   "metadata": {},
   "outputs": [],
   "source": [
    "logistic=LogisticRegression(**{'C': 0.0001, 'class_weight': 'balanced', 'penalty': 'l2'})"
   ]
  },
  {
   "cell_type": "code",
   "execution_count": 31,
   "id": "174044d7",
   "metadata": {},
   "outputs": [
    {
     "data": {
      "text/plain": [
       "LogisticRegression(C=0.001, class_weight='balanced')"
      ]
     },
     "execution_count": 31,
     "metadata": {},
     "output_type": "execute_result"
    }
   ],
   "source": [
    "logistic_r.fit(x,y)"
   ]
  },
  {
   "cell_type": "code",
   "execution_count": 32,
   "id": "566e827c",
   "metadata": {},
   "outputs": [],
   "source": [
    "prediction=np.where(logistic.predict(test.drop(['Complaint ID'],1))==1,\"Yes\",\"No\")"
   ]
  },
  {
   "cell_type": "code",
   "execution_count": 33,
   "id": "9cf226c5",
   "metadata": {},
   "outputs": [],
   "source": [
    "Final_prediction=pd.DataFrame(list(zip(test['Complaint ID'],list(prediction))),\n",
    "                       columns=['Complaint ID','Consumer disputed?'])"
   ]
  },
  {
   "cell_type": "code",
   "execution_count": 34,
   "id": "89715276",
   "metadata": {},
   "outputs": [
    {
     "data": {
      "text/html": [
       "<div>\n",
       "<style scoped>\n",
       "    .dataframe tbody tr th:only-of-type {\n",
       "        vertical-align: middle;\n",
       "    }\n",
       "\n",
       "    .dataframe tbody tr th {\n",
       "        vertical-align: top;\n",
       "    }\n",
       "\n",
       "    .dataframe thead th {\n",
       "        text-align: right;\n",
       "    }\n",
       "</style>\n",
       "<table border=\"1\" class=\"dataframe\">\n",
       "  <thead>\n",
       "    <tr style=\"text-align: right;\">\n",
       "      <th></th>\n",
       "      <th>Complaint ID</th>\n",
       "      <th>Consumer disputed?</th>\n",
       "    </tr>\n",
       "  </thead>\n",
       "  <tbody>\n",
       "    <tr>\n",
       "      <th>0</th>\n",
       "      <td>675956</td>\n",
       "      <td>Yes</td>\n",
       "    </tr>\n",
       "    <tr>\n",
       "      <th>1</th>\n",
       "      <td>1858795</td>\n",
       "      <td>Yes</td>\n",
       "    </tr>\n",
       "    <tr>\n",
       "      <th>2</th>\n",
       "      <td>32637</td>\n",
       "      <td>No</td>\n",
       "    </tr>\n",
       "    <tr>\n",
       "      <th>3</th>\n",
       "      <td>1731374</td>\n",
       "      <td>No</td>\n",
       "    </tr>\n",
       "  </tbody>\n",
       "</table>\n",
       "</div>"
      ],
      "text/plain": [
       "   Complaint ID Consumer disputed?\n",
       "0        675956                Yes\n",
       "1       1858795                Yes\n",
       "2         32637                 No\n",
       "3       1731374                 No"
      ]
     },
     "execution_count": 34,
     "metadata": {},
     "output_type": "execute_result"
    }
   ],
   "source": [
    "Final_prediction.head(4)"
   ]
  },
  {
   "cell_type": "code",
   "execution_count": 36,
   "id": "38da7766",
   "metadata": {},
   "outputs": [],
   "source": [
    "Final_prediction.to_csv('sample_taj_submission.csv',index=False)"
   ]
  }
 ],
 "metadata": {
  "kernelspec": {
   "display_name": "Python 3",
   "language": "python",
   "name": "python3"
  },
  "language_info": {
   "codemirror_mode": {
    "name": "ipython",
    "version": 3
   },
   "file_extension": ".py",
   "mimetype": "text/x-python",
   "name": "python",
   "nbconvert_exporter": "python",
   "pygments_lexer": "ipython3",
   "version": "3.8.8"
  }
 },
 "nbformat": 4,
 "nbformat_minor": 5
}
