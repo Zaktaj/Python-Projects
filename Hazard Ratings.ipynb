{
 "cells": [
  {
   "cell_type": "code",
   "execution_count": null,
   "id": "80fbfe73",
   "metadata": {},
   "outputs": [],
   "source": [
    "import pandas as pd\n",
    "import numpy as np \n",
    "from sklearn.model_selection import GridSearchCV\n",
    "from xgboost import XGBRegressor"
   ]
  },
  {
   "cell_type": "markdown",
   "id": "a63c11c3",
   "metadata": {},
   "source": [
    "# Data cleaning"
   ]
  },
  {
   "cell_type": "code",
   "execution_count": null,
   "id": "496da618",
   "metadata": {},
   "outputs": [],
   "source": [
    "train=pd.read_csv('C:/Users/Hp/OneDrive/Documents/IIT KANPUR PYTHON/4th PROJECT/Hazard_train.csv')"
   ]
  },
  {
   "cell_type": "code",
   "execution_count": null,
   "id": "2e27e212",
   "metadata": {},
   "outputs": [],
   "source": [
    "test=pd.read_csv('C:/Users/Hp/OneDrive/Documents/IIT KANPUR PYTHON/4th PROJECT/Hazard_test_share.csv')"
   ]
  },
  {
   "cell_type": "code",
   "execution_count": null,
   "id": "5c314d10",
   "metadata": {},
   "outputs": [],
   "source": [
    "cat_cols=train.select_dtypes(['object']).columns"
   ]
  },
  {
   "cell_type": "code",
   "execution_count": null,
   "id": "e89eb5dd",
   "metadata": {},
   "outputs": [],
   "source": [
    "cat_cols"
   ]
  },
  {
   "cell_type": "code",
   "execution_count": null,
   "id": "a369a877",
   "metadata": {},
   "outputs": [],
   "source": [
    "train.shape"
   ]
  },
  {
   "cell_type": "code",
   "execution_count": null,
   "id": "470bac9d",
   "metadata": {},
   "outputs": [],
   "source": [
    "test.shape"
   ]
  },
  {
   "cell_type": "code",
   "execution_count": null,
   "id": "733d7ff1",
   "metadata": {},
   "outputs": [],
   "source": [
    "train['data']='train'\n",
    "test['data']='test'\n",
    "all_data=pd.concat([train,test],0,sort=False)"
   ]
  },
  {
   "cell_type": "code",
   "execution_count": null,
   "id": "83c6ac82",
   "metadata": {},
   "outputs": [],
   "source": [
    "all_data.shape"
   ]
  },
  {
   "cell_type": "code",
   "execution_count": null,
   "id": "4cbf6a04",
   "metadata": {},
   "outputs": [],
   "source": [
    "for col in cat_cols:\n",
    "    k=all_data[col].value_counts()\n",
    "    cats=k[k>=100].index[:-1]\n",
    "    \n",
    "    for cat in cats:\n",
    "        name=col+'_'+cat\n",
    "        all_data[name]=(all_data[col]==cat).astype(int)\n",
    "        \n",
    "    del all_data[col]"
   ]
  },
  {
   "cell_type": "code",
   "execution_count": null,
   "id": "a1667371",
   "metadata": {},
   "outputs": [],
   "source": [
    "all_data.shape"
   ]
  },
  {
   "cell_type": "code",
   "execution_count": null,
   "id": "bbbb0ef4",
   "metadata": {},
   "outputs": [],
   "source": [
    "x_train=all_data.drop(['Id','Hazard','data'],1)[all_data['data']=='train']\n",
    "y_train=all_data['Hazard'][all_data['data']=='train']"
   ]
  },
  {
   "cell_type": "code",
   "execution_count": null,
   "id": "bb96f5ae",
   "metadata": {},
   "outputs": [],
   "source": [
    "x_train.shape, y_train.shape"
   ]
  },
  {
   "cell_type": "code",
   "execution_count": null,
   "id": "81a192ee",
   "metadata": {},
   "outputs": [],
   "source": [
    "x_test=all_data.drop(['Id','Hazard','data'],1)[all_data['data']=='test']"
   ]
  },
  {
   "cell_type": "markdown",
   "id": "1ff33ac1",
   "metadata": {},
   "source": [
    "# Data Meodelling "
   ]
  },
  {
   "cell_type": "code",
   "execution_count": null,
   "id": "d416aed7",
   "metadata": {},
   "outputs": [],
   "source": [
    "xgb_params = {  \n",
    "                \"learning_rate\":[0.01,0.05,0.1,0.3,0.5],\n",
    "                \"gamma\":[i/10.0 for i in range(0,5)],\n",
    "                \"max_depth\": [2,3,4,5,6,7,8],\n",
    "                \"min_child_weight\":[1,2,5,10],\n",
    "                \"max_delta_step\":[0,1,2,5,10],\n",
    "                \"subsample\":[i/10.0 for i in range(5,10)],\n",
    "                \"colsample_bytree\":[i/10.0 for i in range(5,10)],\n",
    "                \"colsample_bylevel\":[i/10.0 for i in range(5,10)],\n",
    "                \"reg_lambda\":[1e-5, 1e-2, 0.1, 1, 100], \n",
    "                \"reg_alpha\":[1e-5, 1e-2, 0.1, 1, 100],\n",
    "                \"scale_pos_weight\":[1,2,3,4,5,6,7,8,9],\n",
    "                \"n_estimators\":[100,500,700,1000]\n",
    "             }"
   ]
  },
  {
   "cell_type": "code",
   "execution_count": null,
   "id": "4ff55de5",
   "metadata": {},
   "outputs": [],
   "source": [
    "xgb=XGBRegressor(objective='count:poisson')"
   ]
  },
  {
   "cell_type": "code",
   "execution_count": null,
   "id": "0252afe5",
   "metadata": {},
   "outputs": [],
   "source": [
    "xgb_fit=GridSearchCV(xgb,n_jobs=-1,cv=10,scoring='neg_mean_absolute_error',\n",
    "                                 param_grid=xgb_params)"
   ]
  },
  {
   "cell_type": "code",
   "execution_count": null,
   "id": "7f97721b",
   "metadata": {},
   "outputs": [],
   "source": [
    "xgb_fit.fit(x_train,y_train)"
   ]
  },
  {
   "cell_type": "code",
   "execution_count": null,
   "id": "c6706b2d",
   "metadata": {},
   "outputs": [],
   "source": [
    "def report(results, n_top=3):\n",
    "    for i in range(1, n_top + 1):\n",
    "        candidates = np.flatnonzero(results['rank_test_score'] == i)\n",
    "        for candidate in candidates:\n",
    "            print(\"Model with rank: {0}\".format(i))\n",
    "            print(\"Mean validation score: {0:.5f} (std: {1:.5f})\".format(\n",
    "                  results['mean_test_score'][candidate],\n",
    "                  results['std_test_score'][candidate]))\n",
    "            print(\"Parameters: {0}\".format(results['params'][candidate]))\n",
    "            print(\"\")"
   ]
  },
  {
   "cell_type": "code",
   "execution_count": null,
   "id": "ebcb4cfe",
   "metadata": {},
   "outputs": [],
   "source": [
    "report(xgb_fit.cv_results_,5)"
   ]
  },
  {
   "cell_type": "code",
   "execution_count": null,
   "id": "e92ffda6",
   "metadata": {},
   "outputs": [],
   "source": [
    "xgbre=XGBRegressor(**{'subsample': 0.7, 'scale_pos_weight': 3, 'reg_lambda': 0.1, 'reg_alpha': 1, 'n_estimators': 1000, 'min_child_weight': 10, 'max_depth': 5, 'max_delta_step': 5, 'learning_rate': 0.5, 'gamma': 0.1, 'colsample_bytree': 0.8, 'colsample_bylevel': 0.7})"
   ]
  },
  {
   "cell_type": "code",
   "execution_count": null,
   "id": "1a7a841f",
   "metadata": {},
   "outputs": [],
   "source": [
    "xgbre.fit(x_train,y_train)"
   ]
  },
  {
   "cell_type": "code",
   "execution_count": null,
   "id": "6296a9b3",
   "metadata": {},
   "outputs": [],
   "source": [
    "submissions=pd.DataFrame({'Hazard':xgbre.predict(x_test)})"
   ]
  },
  {
   "cell_type": "code",
   "execution_count": null,
   "id": "c43f7f28",
   "metadata": {},
   "outputs": [],
   "source": [
    "submissions.to_csv('sample_submission.csv',index=False)"
   ]
  }
 ],
 "metadata": {
  "kernelspec": {
   "display_name": "Python 3",
   "language": "python",
   "name": "python3"
  },
  "language_info": {
   "codemirror_mode": {
    "name": "ipython",
    "version": 3
   },
   "file_extension": ".py",
   "mimetype": "text/x-python",
   "name": "python",
   "nbconvert_exporter": "python",
   "pygments_lexer": "ipython3",
   "version": "3.8.8"
  }
 },
 "nbformat": 4,
 "nbformat_minor": 5
}
