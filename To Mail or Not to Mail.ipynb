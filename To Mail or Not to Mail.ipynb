{
 "cells": [
  {
   "cell_type": "code",
   "execution_count": 1,
   "id": "4fc80bae",
   "metadata": {},
   "outputs": [],
   "source": [
    "import warnings\n",
    "warnings.filterwarnings('ignore')\n",
    "import pandas as pd\n",
    "import numpy as np"
   ]
  },
  {
   "cell_type": "code",
   "execution_count": 2,
   "id": "7e28c2cf",
   "metadata": {},
   "outputs": [],
   "source": [
    "train=pd.read_csv('C:/Users/Hp/OneDrive/Documents/IIT KANPUR PYTHON/2nd PROJECT/carvan_train.csv')"
   ]
  },
  {
   "cell_type": "code",
   "execution_count": 3,
   "id": "33e746eb",
   "metadata": {},
   "outputs": [],
   "source": [
    "test=pd.read_csv('C:/Users/Hp/OneDrive/Documents/IIT KANPUR PYTHON/2nd PROJECT/carvan_test.csv')"
   ]
  },
  {
   "cell_type": "markdown",
   "id": "861aa1b0",
   "metadata": {},
   "source": [
    "# Data cleaning"
   ]
  },
  {
   "cell_type": "code",
   "execution_count": 4,
   "id": "84a03157",
   "metadata": {},
   "outputs": [
    {
     "data": {
      "text/plain": [
       "V1     0\n",
       "V2     0\n",
       "V3     0\n",
       "V4     0\n",
       "V5     0\n",
       "      ..\n",
       "V82    0\n",
       "V83    0\n",
       "V84    0\n",
       "V85    0\n",
       "V86    0\n",
       "Length: 86, dtype: int64"
      ]
     },
     "execution_count": 4,
     "metadata": {},
     "output_type": "execute_result"
    }
   ],
   "source": [
    "train.isnull().sum()"
   ]
  },
  {
   "cell_type": "code",
   "execution_count": 5,
   "id": "e962ba8f",
   "metadata": {},
   "outputs": [
    {
     "data": {
      "text/plain": [
       "V1     0\n",
       "V2     0\n",
       "V3     0\n",
       "V4     0\n",
       "V5     0\n",
       "      ..\n",
       "V81    0\n",
       "V82    0\n",
       "V83    0\n",
       "V84    0\n",
       "V85    0\n",
       "Length: 85, dtype: int64"
      ]
     },
     "execution_count": 5,
     "metadata": {},
     "output_type": "execute_result"
    }
   ],
   "source": [
    "test.isnull().sum()"
   ]
  },
  {
   "cell_type": "code",
   "execution_count": 6,
   "id": "5d005e48",
   "metadata": {},
   "outputs": [],
   "source": [
    "for col in ['V1','V5']:\n",
    "    train[col]=train[col].astype('category',copy=False)\n",
    "    test[col]=test[col].astype('category',copy=False)"
   ]
  },
  {
   "cell_type": "code",
   "execution_count": 7,
   "id": "62c9a48f",
   "metadata": {},
   "outputs": [
    {
     "name": "stdout",
     "output_type": "stream",
     "text": [
      "<class 'pandas.core.frame.DataFrame'>\n",
      "RangeIndex: 5822 entries, 0 to 5821\n",
      "Data columns (total 86 columns):\n",
      " #   Column  Non-Null Count  Dtype   \n",
      "---  ------  --------------  -----   \n",
      " 0   V1      5822 non-null   category\n",
      " 1   V2      5822 non-null   int64   \n",
      " 2   V3      5822 non-null   int64   \n",
      " 3   V4      5822 non-null   int64   \n",
      " 4   V5      5822 non-null   category\n",
      " 5   V6      5822 non-null   int64   \n",
      " 6   V7      5822 non-null   int64   \n",
      " 7   V8      5822 non-null   int64   \n",
      " 8   V9      5822 non-null   int64   \n",
      " 9   V10     5822 non-null   int64   \n",
      " 10  V11     5822 non-null   int64   \n",
      " 11  V12     5822 non-null   int64   \n",
      " 12  V13     5822 non-null   int64   \n",
      " 13  V14     5822 non-null   int64   \n",
      " 14  V15     5822 non-null   int64   \n",
      " 15  V16     5822 non-null   int64   \n",
      " 16  V17     5822 non-null   int64   \n",
      " 17  V18     5822 non-null   int64   \n",
      " 18  V19     5822 non-null   int64   \n",
      " 19  V20     5822 non-null   int64   \n",
      " 20  V21     5822 non-null   int64   \n",
      " 21  V22     5822 non-null   int64   \n",
      " 22  V23     5822 non-null   int64   \n",
      " 23  V24     5822 non-null   int64   \n",
      " 24  V25     5822 non-null   int64   \n",
      " 25  V26     5822 non-null   int64   \n",
      " 26  V27     5822 non-null   int64   \n",
      " 27  V28     5822 non-null   int64   \n",
      " 28  V29     5822 non-null   int64   \n",
      " 29  V30     5822 non-null   int64   \n",
      " 30  V31     5822 non-null   int64   \n",
      " 31  V32     5822 non-null   int64   \n",
      " 32  V33     5822 non-null   int64   \n",
      " 33  V34     5822 non-null   int64   \n",
      " 34  V35     5822 non-null   int64   \n",
      " 35  V36     5822 non-null   int64   \n",
      " 36  V37     5822 non-null   int64   \n",
      " 37  V38     5822 non-null   int64   \n",
      " 38  V39     5822 non-null   int64   \n",
      " 39  V40     5822 non-null   int64   \n",
      " 40  V41     5822 non-null   int64   \n",
      " 41  V42     5822 non-null   int64   \n",
      " 42  V43     5822 non-null   int64   \n",
      " 43  V44     5822 non-null   int64   \n",
      " 44  V45     5822 non-null   int64   \n",
      " 45  V46     5822 non-null   int64   \n",
      " 46  V47     5822 non-null   int64   \n",
      " 47  V48     5822 non-null   int64   \n",
      " 48  V49     5822 non-null   int64   \n",
      " 49  V50     5822 non-null   int64   \n",
      " 50  V51     5822 non-null   int64   \n",
      " 51  V52     5822 non-null   int64   \n",
      " 52  V53     5822 non-null   int64   \n",
      " 53  V54     5822 non-null   int64   \n",
      " 54  V55     5822 non-null   int64   \n",
      " 55  V56     5822 non-null   int64   \n",
      " 56  V57     5822 non-null   int64   \n",
      " 57  V58     5822 non-null   int64   \n",
      " 58  V59     5822 non-null   int64   \n",
      " 59  V60     5822 non-null   int64   \n",
      " 60  V61     5822 non-null   int64   \n",
      " 61  V62     5822 non-null   int64   \n",
      " 62  V63     5822 non-null   int64   \n",
      " 63  V64     5822 non-null   int64   \n",
      " 64  V65     5822 non-null   int64   \n",
      " 65  V66     5822 non-null   int64   \n",
      " 66  V67     5822 non-null   int64   \n",
      " 67  V68     5822 non-null   int64   \n",
      " 68  V69     5822 non-null   int64   \n",
      " 69  V70     5822 non-null   int64   \n",
      " 70  V71     5822 non-null   int64   \n",
      " 71  V72     5822 non-null   int64   \n",
      " 72  V73     5822 non-null   int64   \n",
      " 73  V74     5822 non-null   int64   \n",
      " 74  V75     5822 non-null   int64   \n",
      " 75  V76     5822 non-null   int64   \n",
      " 76  V77     5822 non-null   int64   \n",
      " 77  V78     5822 non-null   int64   \n",
      " 78  V79     5822 non-null   int64   \n",
      " 79  V80     5822 non-null   int64   \n",
      " 80  V81     5822 non-null   int64   \n",
      " 81  V82     5822 non-null   int64   \n",
      " 82  V83     5822 non-null   int64   \n",
      " 83  V84     5822 non-null   int64   \n",
      " 84  V85     5822 non-null   int64   \n",
      " 85  V86     5822 non-null   int64   \n",
      "dtypes: category(2), int64(84)\n",
      "memory usage: 3.7 MB\n"
     ]
    }
   ],
   "source": [
    "train.info()"
   ]
  },
  {
   "cell_type": "code",
   "execution_count": 8,
   "id": "894fb52d",
   "metadata": {},
   "outputs": [],
   "source": [
    "x=train.drop(['V86'],1)\n",
    "y=train['V86']"
   ]
  },
  {
   "cell_type": "markdown",
   "id": "a9ea273e",
   "metadata": {},
   "source": [
    "# Model fitting"
   ]
  },
  {
   "cell_type": "code",
   "execution_count": 9,
   "id": "75b45d74",
   "metadata": {},
   "outputs": [],
   "source": [
    "from sklearn.model_selection import RandomizedSearchCV\n",
    "from sklearn.tree import DecisionTreeClassifier"
   ]
  },
  {
   "cell_type": "code",
   "execution_count": 10,
   "id": "6a9295d1",
   "metadata": {},
   "outputs": [],
   "source": [
    "params={ 'class_weight':[None,'balanced'], \n",
    "        'criterion':['entropy','gini'],\n",
    "        'max_depth':[None,5,10,15,20,30,50,70],\n",
    "            'min_samples_leaf':[1,2,5,10,15,20], \n",
    "            'min_samples_split':[2,5,10,15,20]\n",
    "       }"
   ]
  },
  {
   "cell_type": "code",
   "execution_count": 11,
   "id": "8e363ff4",
   "metadata": {},
   "outputs": [],
   "source": [
    "clf=DecisionTreeClassifier()"
   ]
  },
  {
   "cell_type": "code",
   "execution_count": 12,
   "id": "67725216",
   "metadata": {},
   "outputs": [],
   "source": [
    "tree=RandomizedSearchCV(clf,cv=10,\n",
    "                        param_distributions=params,\n",
    "                        scoring='roc_auc',\n",
    "                        n_iter=20,n_jobs=-1,verbose=20)"
   ]
  },
  {
   "cell_type": "code",
   "execution_count": 13,
   "id": "d88e0723",
   "metadata": {},
   "outputs": [
    {
     "name": "stdout",
     "output_type": "stream",
     "text": [
      "Fitting 10 folds for each of 20 candidates, totalling 200 fits\n"
     ]
    },
    {
     "data": {
      "text/plain": [
       "RandomizedSearchCV(cv=10, estimator=DecisionTreeClassifier(), n_iter=20,\n",
       "                   n_jobs=-1,\n",
       "                   param_distributions={'class_weight': [None, 'balanced'],\n",
       "                                        'criterion': ['entropy', 'gini'],\n",
       "                                        'max_depth': [None, 5, 10, 15, 20, 30,\n",
       "                                                      50, 70],\n",
       "                                        'min_samples_leaf': [1, 2, 5, 10, 15,\n",
       "                                                             20],\n",
       "                                        'min_samples_split': [2, 5, 10, 15,\n",
       "                                                              20]},\n",
       "                   scoring='roc_auc', verbose=20)"
      ]
     },
     "execution_count": 13,
     "metadata": {},
     "output_type": "execute_result"
    }
   ],
   "source": [
    "tree.fit(x,y)"
   ]
  },
  {
   "cell_type": "code",
   "execution_count": 14,
   "id": "eece0fef",
   "metadata": {},
   "outputs": [],
   "source": [
    "def report(results, n_top=3):\n",
    "    for i in range(1, n_top + 1):\n",
    "        candidates = np.flatnonzero(results['rank_test_score'] == i)\n",
    "        for candidate in candidates:\n",
    "            print(\"Model with rank: {0}\".format(i))\n",
    "            print(\"Mean validation score: {0:.5f} (std: {1:.5f})\".format(\n",
    "                  results['mean_test_score'][candidate],\n",
    "                  results['std_test_score'][candidate]))\n",
    "            print(\"Parameters: {0}\".format(results['params'][candidate]))\n",
    "            print(\"\")"
   ]
  },
  {
   "cell_type": "code",
   "execution_count": 15,
   "id": "9ab3eceb",
   "metadata": {},
   "outputs": [
    {
     "name": "stdout",
     "output_type": "stream",
     "text": [
      "Model with rank: 1\n",
      "Mean validation score: 0.73410 (std: 0.03778)\n",
      "Parameters: {'min_samples_split': 15, 'min_samples_leaf': 5, 'max_depth': 5, 'criterion': 'gini', 'class_weight': None}\n",
      "\n",
      "Model with rank: 2\n",
      "Mean validation score: 0.72229 (std: 0.03246)\n",
      "Parameters: {'min_samples_split': 10, 'min_samples_leaf': 20, 'max_depth': 5, 'criterion': 'entropy', 'class_weight': None}\n",
      "\n",
      "Model with rank: 3\n",
      "Mean validation score: 0.71820 (std: 0.03478)\n",
      "Parameters: {'min_samples_split': 2, 'min_samples_leaf': 5, 'max_depth': 5, 'criterion': 'entropy', 'class_weight': 'balanced'}\n",
      "\n",
      "Model with rank: 4\n",
      "Mean validation score: 0.66285 (std: 0.04438)\n",
      "Parameters: {'min_samples_split': 5, 'min_samples_leaf': 20, 'max_depth': None, 'criterion': 'entropy', 'class_weight': 'balanced'}\n",
      "\n",
      "Model with rank: 5\n",
      "Mean validation score: 0.65713 (std: 0.03958)\n",
      "Parameters: {'min_samples_split': 2, 'min_samples_leaf': 20, 'max_depth': 20, 'criterion': 'entropy', 'class_weight': None}\n",
      "\n"
     ]
    }
   ],
   "source": [
    "report(tree.cv_results_,5)"
   ]
  },
  {
   "cell_type": "code",
   "execution_count": 16,
   "id": "d6b41a6f",
   "metadata": {},
   "outputs": [],
   "source": [
    "dtree=DecisionTreeClassifier(**{'min_samples_split': 15, 'min_samples_leaf': 5, 'max_depth': 5, 'criterion': 'gini', 'class_weight': None})"
   ]
  },
  {
   "cell_type": "code",
   "execution_count": 17,
   "id": "8e9fa267",
   "metadata": {},
   "outputs": [
    {
     "data": {
      "text/plain": [
       "DecisionTreeClassifier(max_depth=5, min_samples_leaf=5, min_samples_split=15)"
      ]
     },
     "execution_count": 17,
     "metadata": {},
     "output_type": "execute_result"
    }
   ],
   "source": [
    "dtree.fit(x,y)"
   ]
  },
  {
   "cell_type": "code",
   "execution_count": 18,
   "id": "653693e8",
   "metadata": {},
   "outputs": [],
   "source": [
    "predictions = dtree.predict(test)"
   ]
  },
  {
   "cell_type": "code",
   "execution_count": 20,
   "id": "699ef9a6",
   "metadata": {},
   "outputs": [],
   "source": [
    "prediction = pd.DataFrame(predictions, columns=['v86'])"
   ]
  },
  {
   "cell_type": "code",
   "execution_count": 21,
   "id": "069b8fee",
   "metadata": {},
   "outputs": [],
   "source": [
    "prediction.to_csv('sample_submission.csv',index=False)"
   ]
  }
 ],
 "metadata": {
  "kernelspec": {
   "display_name": "Python 3",
   "language": "python",
   "name": "python3"
  },
  "language_info": {
   "codemirror_mode": {
    "name": "ipython",
    "version": 3
   },
   "file_extension": ".py",
   "mimetype": "text/x-python",
   "name": "python",
   "nbconvert_exporter": "python",
   "pygments_lexer": "ipython3",
   "version": "3.8.8"
  }
 },
 "nbformat": 4,
 "nbformat_minor": 5
}
