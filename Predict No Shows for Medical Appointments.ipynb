{
 "cells": [
  {
   "cell_type": "code",
   "execution_count": 1,
   "id": "ab2ca3c6",
   "metadata": {},
   "outputs": [],
   "source": [
    "import pandas as pd\n",
    "import numpy as np\n",
    "from sklearn.model_selection import RandomizedSearchCV\n",
    "from sklearn.ensemble import GradientBoostingClassifier"
   ]
  },
  {
   "cell_type": "code",
   "execution_count": 2,
   "id": "a011e03b",
   "metadata": {},
   "outputs": [],
   "source": [
    "c_train=pd.read_csv('C:/Users/Hp/OneDrive/Documents/IIT KANPUR PYTHON/6th PROJECT/train.csv')"
   ]
  },
  {
   "cell_type": "code",
   "execution_count": 3,
   "id": "86fde2a8",
   "metadata": {},
   "outputs": [],
   "source": [
    "c_test=pd.read_csv('C:/Users/Hp/OneDrive/Documents/IIT KANPUR PYTHON/6th PROJECT/test_share.csv')"
   ]
  },
  {
   "cell_type": "code",
   "execution_count": 4,
   "id": "035f37f1",
   "metadata": {},
   "outputs": [],
   "source": [
    "do=pd.read_csv('C:/Users/Hp/OneDrive/Documents/IIT KANPUR PYTHON/6th PROJECT/demographic_details.csv')"
   ]
  },
  {
   "cell_type": "code",
   "execution_count": 5,
   "id": "c806db72",
   "metadata": {},
   "outputs": [],
   "source": [
    "med=pd.read_csv('C:/Users/Hp/OneDrive/Documents/IIT KANPUR PYTHON/6th PROJECT/medical_history.csv')"
   ]
  },
  {
   "cell_type": "code",
   "execution_count": 6,
   "id": "cd9aae05",
   "metadata": {},
   "outputs": [],
   "source": [
    "com=pd.merge(do,med,how='outer',on='PatientId')"
   ]
  },
  {
   "cell_type": "code",
   "execution_count": 7,
   "id": "09f6752c",
   "metadata": {},
   "outputs": [],
   "source": [
    "train=pd.merge(c_train,com,how='left',on='PatientId')\n",
    "test=pd.merge(c_test,com,how='left',on='PatientId')"
   ]
  },
  {
   "cell_type": "code",
   "execution_count": 8,
   "id": "ad94e3ca",
   "metadata": {},
   "outputs": [
    {
     "data": {
      "text/html": [
       "<div>\n",
       "<style scoped>\n",
       "    .dataframe tbody tr th:only-of-type {\n",
       "        vertical-align: middle;\n",
       "    }\n",
       "\n",
       "    .dataframe tbody tr th {\n",
       "        vertical-align: top;\n",
       "    }\n",
       "\n",
       "    .dataframe thead th {\n",
       "        text-align: right;\n",
       "    }\n",
       "</style>\n",
       "<table border=\"1\" class=\"dataframe\">\n",
       "  <thead>\n",
       "    <tr style=\"text-align: right;\">\n",
       "      <th></th>\n",
       "      <th>PatientId</th>\n",
       "      <th>AppointmentID</th>\n",
       "      <th>ScheduledDay</th>\n",
       "      <th>AppointmentDay</th>\n",
       "      <th>SMS_received</th>\n",
       "      <th>No-show</th>\n",
       "      <th>Gender</th>\n",
       "      <th>Age</th>\n",
       "      <th>Neighbourhood</th>\n",
       "      <th>Scholarship</th>\n",
       "      <th>Hipertension</th>\n",
       "      <th>Diabetes</th>\n",
       "      <th>Alcoholism</th>\n",
       "      <th>Handcap</th>\n",
       "    </tr>\n",
       "  </thead>\n",
       "  <tbody>\n",
       "    <tr>\n",
       "      <th>0</th>\n",
       "      <td>2.987250e+13</td>\n",
       "      <td>5642903</td>\n",
       "      <td>2016-04-29T18:38:08Z</td>\n",
       "      <td>2016-04-29T00:00:00Z</td>\n",
       "      <td>0</td>\n",
       "      <td>No</td>\n",
       "      <td>F</td>\n",
       "      <td>62</td>\n",
       "      <td>JARDIM DA PENHA</td>\n",
       "      <td>0</td>\n",
       "      <td>1</td>\n",
       "      <td>0</td>\n",
       "      <td>0</td>\n",
       "      <td>0</td>\n",
       "    </tr>\n",
       "    <tr>\n",
       "      <th>1</th>\n",
       "      <td>5.589978e+14</td>\n",
       "      <td>5642503</td>\n",
       "      <td>2016-04-29T16:08:27Z</td>\n",
       "      <td>2016-04-29T00:00:00Z</td>\n",
       "      <td>0</td>\n",
       "      <td>No</td>\n",
       "      <td>M</td>\n",
       "      <td>56</td>\n",
       "      <td>JARDIM DA PENHA</td>\n",
       "      <td>0</td>\n",
       "      <td>0</td>\n",
       "      <td>0</td>\n",
       "      <td>0</td>\n",
       "      <td>0</td>\n",
       "    </tr>\n",
       "    <tr>\n",
       "      <th>2</th>\n",
       "      <td>8.679512e+11</td>\n",
       "      <td>5642828</td>\n",
       "      <td>2016-04-29T17:29:31Z</td>\n",
       "      <td>2016-04-29T00:00:00Z</td>\n",
       "      <td>0</td>\n",
       "      <td>No</td>\n",
       "      <td>F</td>\n",
       "      <td>8</td>\n",
       "      <td>PONTAL DE CAMBURI</td>\n",
       "      <td>0</td>\n",
       "      <td>0</td>\n",
       "      <td>0</td>\n",
       "      <td>0</td>\n",
       "      <td>0</td>\n",
       "    </tr>\n",
       "    <tr>\n",
       "      <th>3</th>\n",
       "      <td>8.841186e+12</td>\n",
       "      <td>5642494</td>\n",
       "      <td>2016-04-29T16:07:23Z</td>\n",
       "      <td>2016-04-29T00:00:00Z</td>\n",
       "      <td>0</td>\n",
       "      <td>No</td>\n",
       "      <td>F</td>\n",
       "      <td>56</td>\n",
       "      <td>JARDIM DA PENHA</td>\n",
       "      <td>0</td>\n",
       "      <td>1</td>\n",
       "      <td>1</td>\n",
       "      <td>0</td>\n",
       "      <td>0</td>\n",
       "    </tr>\n",
       "    <tr>\n",
       "      <th>4</th>\n",
       "      <td>9.598513e+13</td>\n",
       "      <td>5626772</td>\n",
       "      <td>2016-04-27T08:36:51Z</td>\n",
       "      <td>2016-04-29T00:00:00Z</td>\n",
       "      <td>0</td>\n",
       "      <td>No</td>\n",
       "      <td>F</td>\n",
       "      <td>76</td>\n",
       "      <td>REPÚBLICA</td>\n",
       "      <td>0</td>\n",
       "      <td>1</td>\n",
       "      <td>0</td>\n",
       "      <td>0</td>\n",
       "      <td>0</td>\n",
       "    </tr>\n",
       "  </tbody>\n",
       "</table>\n",
       "</div>"
      ],
      "text/plain": [
       "      PatientId  AppointmentID          ScheduledDay        AppointmentDay  \\\n",
       "0  2.987250e+13        5642903  2016-04-29T18:38:08Z  2016-04-29T00:00:00Z   \n",
       "1  5.589978e+14        5642503  2016-04-29T16:08:27Z  2016-04-29T00:00:00Z   \n",
       "2  8.679512e+11        5642828  2016-04-29T17:29:31Z  2016-04-29T00:00:00Z   \n",
       "3  8.841186e+12        5642494  2016-04-29T16:07:23Z  2016-04-29T00:00:00Z   \n",
       "4  9.598513e+13        5626772  2016-04-27T08:36:51Z  2016-04-29T00:00:00Z   \n",
       "\n",
       "   SMS_received No-show Gender  Age      Neighbourhood  Scholarship  \\\n",
       "0             0      No      F   62    JARDIM DA PENHA            0   \n",
       "1             0      No      M   56    JARDIM DA PENHA            0   \n",
       "2             0      No      F    8  PONTAL DE CAMBURI            0   \n",
       "3             0      No      F   56    JARDIM DA PENHA            0   \n",
       "4             0      No      F   76          REPÚBLICA            0   \n",
       "\n",
       "   Hipertension  Diabetes  Alcoholism  Handcap  \n",
       "0             1         0           0        0  \n",
       "1             0         0           0        0  \n",
       "2             0         0           0        0  \n",
       "3             1         1           0        0  \n",
       "4             1         0           0        0  "
      ]
     },
     "execution_count": 8,
     "metadata": {},
     "output_type": "execute_result"
    }
   ],
   "source": [
    "train.head()"
   ]
  },
  {
   "cell_type": "code",
   "execution_count": 9,
   "id": "3deabc8b",
   "metadata": {},
   "outputs": [
    {
     "data": {
      "text/plain": [
       "JARDIM CAMBURI                 6948\n",
       "MARIA ORTIZ                    5203\n",
       "RESISTÊNCIA                    3960\n",
       "JARDIM DA PENHA                3509\n",
       "ITARARÉ                        3171\n",
       "                               ... \n",
       "ILHA DO BOI                      31\n",
       "ILHA DO FRADE                    10\n",
       "AEROPORTO                         7\n",
       "ILHAS OCEÂNICAS DE TRINDADE       2\n",
       "PARQUE INDUSTRIAL                 1\n",
       "Name: Neighbourhood, Length: 81, dtype: int64"
      ]
     },
     "execution_count": 9,
     "metadata": {},
     "output_type": "execute_result"
    }
   ],
   "source": [
    "train['Neighbourhood'].value_counts()"
   ]
  },
  {
   "cell_type": "code",
   "execution_count": 10,
   "id": "f55c9ea3",
   "metadata": {},
   "outputs": [],
   "source": [
    "drop_cols=['PatientId', 'AppointmentID', 'ScheduledDay', 'AppointmentDay']"
   ]
  },
  {
   "cell_type": "code",
   "execution_count": 11,
   "id": "21704a58",
   "metadata": {},
   "outputs": [],
   "source": [
    "train.drop(drop_cols,1,inplace=True)\n",
    "test.drop(drop_cols,1,inplace=True)"
   ]
  },
  {
   "cell_type": "code",
   "execution_count": 12,
   "id": "0581c2de",
   "metadata": {},
   "outputs": [],
   "source": [
    "train['data']='train'\n",
    "test['data']='test'\n",
    "\n",
    "all_data=pd.concat([train,test],0,sort=False)"
   ]
  },
  {
   "cell_type": "code",
   "execution_count": 13,
   "id": "bd2fd495",
   "metadata": {},
   "outputs": [],
   "source": [
    "all_data['gender_f']=(all_data['Gender']=='F').astype(int)\n",
    "del all_data['Gender']"
   ]
  },
  {
   "cell_type": "code",
   "execution_count": 14,
   "id": "5ec95eca",
   "metadata": {},
   "outputs": [
    {
     "data": {
      "text/plain": [
       "(110344, 11)"
      ]
     },
     "execution_count": 14,
     "metadata": {},
     "output_type": "execute_result"
    }
   ],
   "source": [
    "all_data.shape"
   ]
  },
  {
   "cell_type": "code",
   "execution_count": 15,
   "id": "6db32ad2",
   "metadata": {},
   "outputs": [],
   "source": [
    "k=all_data['Neighbourhood'].value_counts()\n",
    "cats=k[k>2000].index"
   ]
  },
  {
   "cell_type": "code",
   "execution_count": 16,
   "id": "ee21a3f5",
   "metadata": {},
   "outputs": [],
   "source": [
    "for cat in cats:\n",
    "    name='Neighbourhood_'+cat\n",
    "    all_data[name]=(all_data['Neighbourhood']==cat).astype(int)\n",
    "del all_data['Neighbourhood']"
   ]
  },
  {
   "cell_type": "code",
   "execution_count": 17,
   "id": "391bff4a",
   "metadata": {},
   "outputs": [
    {
     "data": {
      "text/plain": [
       "(110344, 31)"
      ]
     },
     "execution_count": 17,
     "metadata": {},
     "output_type": "execute_result"
    }
   ],
   "source": [
    "all_data.shape"
   ]
  },
  {
   "cell_type": "code",
   "execution_count": 18,
   "id": "695dcf37",
   "metadata": {},
   "outputs": [
    {
     "data": {
      "text/html": [
       "<div>\n",
       "<style scoped>\n",
       "    .dataframe tbody tr th:only-of-type {\n",
       "        vertical-align: middle;\n",
       "    }\n",
       "\n",
       "    .dataframe tbody tr th {\n",
       "        vertical-align: top;\n",
       "    }\n",
       "\n",
       "    .dataframe thead th {\n",
       "        text-align: right;\n",
       "    }\n",
       "</style>\n",
       "<table border=\"1\" class=\"dataframe\">\n",
       "  <thead>\n",
       "    <tr style=\"text-align: right;\">\n",
       "      <th></th>\n",
       "      <th>SMS_received</th>\n",
       "      <th>No-show</th>\n",
       "      <th>Age</th>\n",
       "      <th>Scholarship</th>\n",
       "      <th>Hipertension</th>\n",
       "      <th>Diabetes</th>\n",
       "      <th>Alcoholism</th>\n",
       "      <th>Handcap</th>\n",
       "      <th>data</th>\n",
       "      <th>gender_f</th>\n",
       "      <th>...</th>\n",
       "      <th>Neighbourhood_SANTO ANDRÉ</th>\n",
       "      <th>Neighbourhood_CARATOÍRA</th>\n",
       "      <th>Neighbourhood_JABOUR</th>\n",
       "      <th>Neighbourhood_SÃO PEDRO</th>\n",
       "      <th>Neighbourhood_ILHA DO PRÍNCIPE</th>\n",
       "      <th>Neighbourhood_NOVA PALESTINA</th>\n",
       "      <th>Neighbourhood_DA PENHA</th>\n",
       "      <th>Neighbourhood_ANDORINHAS</th>\n",
       "      <th>Neighbourhood_ROMÃO</th>\n",
       "      <th>Neighbourhood_GURIGICA</th>\n",
       "    </tr>\n",
       "  </thead>\n",
       "  <tbody>\n",
       "    <tr>\n",
       "      <th>0</th>\n",
       "      <td>0</td>\n",
       "      <td>No</td>\n",
       "      <td>62</td>\n",
       "      <td>0</td>\n",
       "      <td>1</td>\n",
       "      <td>0</td>\n",
       "      <td>0</td>\n",
       "      <td>0</td>\n",
       "      <td>train</td>\n",
       "      <td>1</td>\n",
       "      <td>...</td>\n",
       "      <td>0</td>\n",
       "      <td>0</td>\n",
       "      <td>0</td>\n",
       "      <td>0</td>\n",
       "      <td>0</td>\n",
       "      <td>0</td>\n",
       "      <td>0</td>\n",
       "      <td>0</td>\n",
       "      <td>0</td>\n",
       "      <td>0</td>\n",
       "    </tr>\n",
       "    <tr>\n",
       "      <th>1</th>\n",
       "      <td>0</td>\n",
       "      <td>No</td>\n",
       "      <td>56</td>\n",
       "      <td>0</td>\n",
       "      <td>0</td>\n",
       "      <td>0</td>\n",
       "      <td>0</td>\n",
       "      <td>0</td>\n",
       "      <td>train</td>\n",
       "      <td>0</td>\n",
       "      <td>...</td>\n",
       "      <td>0</td>\n",
       "      <td>0</td>\n",
       "      <td>0</td>\n",
       "      <td>0</td>\n",
       "      <td>0</td>\n",
       "      <td>0</td>\n",
       "      <td>0</td>\n",
       "      <td>0</td>\n",
       "      <td>0</td>\n",
       "      <td>0</td>\n",
       "    </tr>\n",
       "  </tbody>\n",
       "</table>\n",
       "<p>2 rows × 31 columns</p>\n",
       "</div>"
      ],
      "text/plain": [
       "   SMS_received No-show  Age  Scholarship  Hipertension  Diabetes  Alcoholism  \\\n",
       "0             0      No   62            0             1         0           0   \n",
       "1             0      No   56            0             0         0           0   \n",
       "\n",
       "   Handcap   data  gender_f  ...  Neighbourhood_SANTO ANDRÉ  \\\n",
       "0        0  train         1  ...                          0   \n",
       "1        0  train         0  ...                          0   \n",
       "\n",
       "   Neighbourhood_CARATOÍRA  Neighbourhood_JABOUR  Neighbourhood_SÃO PEDRO  \\\n",
       "0                        0                     0                        0   \n",
       "1                        0                     0                        0   \n",
       "\n",
       "   Neighbourhood_ILHA DO PRÍNCIPE  Neighbourhood_NOVA PALESTINA  \\\n",
       "0                               0                             0   \n",
       "1                               0                             0   \n",
       "\n",
       "   Neighbourhood_DA PENHA  Neighbourhood_ANDORINHAS  Neighbourhood_ROMÃO  \\\n",
       "0                       0                         0                    0   \n",
       "1                       0                         0                    0   \n",
       "\n",
       "   Neighbourhood_GURIGICA  \n",
       "0                       0  \n",
       "1                       0  \n",
       "\n",
       "[2 rows x 31 columns]"
      ]
     },
     "execution_count": 18,
     "metadata": {},
     "output_type": "execute_result"
    }
   ],
   "source": [
    "all_data.head(2)"
   ]
  },
  {
   "cell_type": "code",
   "execution_count": 19,
   "id": "28f44941",
   "metadata": {},
   "outputs": [],
   "source": [
    "target='No-show'"
   ]
  },
  {
   "cell_type": "code",
   "execution_count": 20,
   "id": "a959417a",
   "metadata": {},
   "outputs": [],
   "source": [
    "x_tarin=all_data.drop([target,'data'],1)[all_data['data']=='train']\n",
    "y_train=all_data[target][all_data['data']=='train']\n",
    "x_test=all_data.drop([target,'data'],1)[all_data['data']=='test']"
   ]
  },
  {
   "cell_type": "markdown",
   "id": "0b803b10",
   "metadata": {},
   "source": [
    "# Model Fitting"
   ]
  },
  {
   "cell_type": "code",
   "execution_count": 21,
   "id": "c49b13dd",
   "metadata": {},
   "outputs": [],
   "source": [
    "clf=GradientBoostingClassifier()"
   ]
  },
  {
   "cell_type": "code",
   "execution_count": 22,
   "id": "9af5af97",
   "metadata": {},
   "outputs": [],
   "source": [
    "gbm_params={'n_estimators':[50,100,200,500,700],\n",
    "           'learning_rate': [0.01,.05,0.1,0.4,0.8,1],\n",
    "            'max_depth':[1,2,3,4,5,6],\n",
    "            'min_samples_split':[2,5,10,20],\n",
    "            'min_samples_leaf':[2,5,10,20],\n",
    "            'subsample':[0.5,0.8,1],\n",
    "            'max_features':[5,10,15,20,30,45,55,65]\n",
    "           }"
   ]
  },
  {
   "cell_type": "code",
   "execution_count": 23,
   "id": "aaa7e1d5",
   "metadata": {},
   "outputs": [],
   "source": [
    "ramdom_search=RandomizedSearchCV(clf,scoring='roc_auc',param_distributions=gbm_params,cv=10,n_iter=10, n_jobs=-1,verbose=20)"
   ]
  },
  {
   "cell_type": "code",
   "execution_count": 24,
   "id": "354f26df",
   "metadata": {},
   "outputs": [
    {
     "name": "stdout",
     "output_type": "stream",
     "text": [
      "Fitting 10 folds for each of 10 candidates, totalling 100 fits\n"
     ]
    },
    {
     "name": "stderr",
     "output_type": "stream",
     "text": [
      "C:\\Users\\Hp\\anaconda3\\lib\\site-packages\\sklearn\\model_selection\\_search.py:918: UserWarning: One or more of the test scores are non-finite: [0.58274264        nan 0.58835965 0.58071654        nan        nan\n",
      "        nan 0.58199636        nan        nan]\n",
      "  warnings.warn(\n"
     ]
    },
    {
     "data": {
      "text/plain": [
       "RandomizedSearchCV(cv=10, estimator=GradientBoostingClassifier(), n_jobs=-1,\n",
       "                   param_distributions={'learning_rate': [0.01, 0.05, 0.1, 0.4,\n",
       "                                                          0.8, 1],\n",
       "                                        'max_depth': [1, 2, 3, 4, 5, 6],\n",
       "                                        'max_features': [5, 10, 15, 20, 30, 45,\n",
       "                                                         55, 65],\n",
       "                                        'min_samples_leaf': [2, 5, 10, 20],\n",
       "                                        'min_samples_split': [2, 5, 10, 20],\n",
       "                                        'n_estimators': [50, 100, 200, 500,\n",
       "                                                         700],\n",
       "                                        'subsample': [0.5, 0.8, 1]},\n",
       "                   scoring='roc_auc', verbose=20)"
      ]
     },
     "execution_count": 24,
     "metadata": {},
     "output_type": "execute_result"
    }
   ],
   "source": [
    "ramdom_search.fit(x_tarin,y_train)"
   ]
  },
  {
   "cell_type": "code",
   "execution_count": 25,
   "id": "9986c16b",
   "metadata": {},
   "outputs": [],
   "source": [
    "def report(results, n_top=3):\n",
    "    for i in range(1, n_top + 1):\n",
    "        candidates = np.flatnonzero(results['rank_test_score'] == i)\n",
    "        for candidate in candidates:\n",
    "            print(\"Model with rank: {0}\".format(i))\n",
    "            print(\"Mean validation score: {0:.6f} (std: {1:.6f})\".format(\n",
    "                  results['mean_test_score'][candidate],\n",
    "                  results['std_test_score'][candidate]))\n",
    "            print(\"Parameters: {0}\".format(results['params'][candidate]))\n",
    "            print(\"\")"
   ]
  },
  {
   "cell_type": "code",
   "execution_count": 26,
   "id": "93af908b",
   "metadata": {},
   "outputs": [
    {
     "name": "stdout",
     "output_type": "stream",
     "text": [
      "Model with rank: 1\n",
      "Mean validation score: 0.588360 (std: 0.041170)\n",
      "Parameters: {'subsample': 1, 'n_estimators': 50, 'min_samples_split': 2, 'min_samples_leaf': 20, 'max_features': 15, 'max_depth': 4, 'learning_rate': 0.01}\n",
      "\n",
      "Model with rank: 2\n",
      "Mean validation score: 0.582743 (std: 0.043708)\n",
      "Parameters: {'subsample': 0.8, 'n_estimators': 500, 'min_samples_split': 5, 'min_samples_leaf': 10, 'max_features': 20, 'max_depth': 5, 'learning_rate': 0.05}\n",
      "\n",
      "Model with rank: 3\n",
      "Mean validation score: 0.581996 (std: 0.046958)\n",
      "Parameters: {'subsample': 0.5, 'n_estimators': 200, 'min_samples_split': 2, 'min_samples_leaf': 5, 'max_features': 5, 'max_depth': 5, 'learning_rate': 0.1}\n",
      "\n",
      "Model with rank: 4\n",
      "Mean validation score: 0.580717 (std: 0.044485)\n",
      "Parameters: {'subsample': 0.5, 'n_estimators': 100, 'min_samples_split': 2, 'min_samples_leaf': 2, 'max_features': 10, 'max_depth': 2, 'learning_rate': 0.8}\n",
      "\n",
      "Model with rank: 5\n",
      "Mean validation score: nan (std: nan)\n",
      "Parameters: {'subsample': 1, 'n_estimators': 50, 'min_samples_split': 5, 'min_samples_leaf': 20, 'max_features': 55, 'max_depth': 5, 'learning_rate': 0.1}\n",
      "\n"
     ]
    }
   ],
   "source": [
    "report(ramdom_search.cv_results_,5)"
   ]
  },
  {
   "cell_type": "code",
   "execution_count": 27,
   "id": "653de117",
   "metadata": {},
   "outputs": [],
   "source": [
    "rs=GradientBoostingClassifier(**{'subsample': 0.8, 'n_estimators': 500, 'min_samples_split': 5, 'min_samples_leaf': 10, 'max_features': 20, 'max_depth': 5, 'learning_rate': 0.05})"
   ]
  },
  {
   "cell_type": "code",
   "execution_count": 28,
   "id": "f4f2f851",
   "metadata": {},
   "outputs": [
    {
     "data": {
      "text/plain": [
       "GradientBoostingClassifier(learning_rate=0.05, max_depth=5, max_features=20,\n",
       "                           min_samples_leaf=10, min_samples_split=5,\n",
       "                           n_estimators=500, subsample=0.8)"
      ]
     },
     "execution_count": 28,
     "metadata": {},
     "output_type": "execute_result"
    }
   ],
   "source": [
    "rs.fit(x_tarin,y_train)"
   ]
  },
  {
   "cell_type": "code",
   "execution_count": 29,
   "id": "72118df0",
   "metadata": {},
   "outputs": [],
   "source": [
    "submissions=pd.DataFrame({'Junk':rs.predict_proba(x_test)[:,1]})"
   ]
  },
  {
   "cell_type": "code",
   "execution_count": 30,
   "id": "4b9e8f28",
   "metadata": {},
   "outputs": [],
   "source": [
    "submissions.to_csv('sample_submission.csv',index=False)"
   ]
  }
 ],
 "metadata": {
  "kernelspec": {
   "display_name": "Python 3",
   "language": "python",
   "name": "python3"
  },
  "language_info": {
   "codemirror_mode": {
    "name": "ipython",
    "version": 3
   },
   "file_extension": ".py",
   "mimetype": "text/x-python",
   "name": "python",
   "nbconvert_exporter": "python",
   "pygments_lexer": "ipython3",
   "version": "3.8.8"
  }
 },
 "nbformat": 4,
 "nbformat_minor": 5
}
