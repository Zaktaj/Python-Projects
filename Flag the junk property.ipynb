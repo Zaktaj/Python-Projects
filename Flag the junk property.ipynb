{
 "cells": [
  {
   "cell_type": "code",
   "execution_count": 1,
   "id": "0bbd48d0",
   "metadata": {},
   "outputs": [],
   "source": [
    "import warnings\n",
    "warnings.filterwarnings('ignore')\n",
    "import pandas as pd\n",
    "import numpy as np\n",
    "from sklearn.model_selection import RandomizedSearchCV\n",
    "from sklearn.ensemble import RandomForestClassifier"
   ]
  },
  {
   "cell_type": "markdown",
   "id": "1884f942",
   "metadata": {},
   "source": [
    "# Data Cleaning"
   ]
  },
  {
   "cell_type": "code",
   "execution_count": 2,
   "id": "8e94b2d3",
   "metadata": {},
   "outputs": [],
   "source": [
    "train=pd.train=pd.read_csv('C:/Users/Hp/OneDrive/Documents/IIT KANPUR PYTHON/5th PROJECT/Property_train.csv')"
   ]
  },
  {
   "cell_type": "code",
   "execution_count": 3,
   "id": "04d1c36d",
   "metadata": {},
   "outputs": [],
   "source": [
    "test=pd.train=pd.read_csv('C:/Users/Hp/OneDrive/Documents/IIT KANPUR PYTHON/5th PROJECT/Property_test_share.csv')"
   ]
  },
  {
   "cell_type": "code",
   "execution_count": 4,
   "id": "ba9a16bc",
   "metadata": {},
   "outputs": [
    {
     "name": "stdout",
     "output_type": "stream",
     "text": [
      "<class 'pandas.core.frame.DataFrame'>\n",
      "RangeIndex: 62035 entries, 0 to 62034\n",
      "Data columns (total 31 columns):\n",
      " #   Column                 Non-Null Count  Dtype \n",
      "---  ------                 --------------  ----- \n",
      " 0   Junk                   62035 non-null  int64 \n",
      " 1   InteriorsStyle         62035 non-null  object\n",
      " 2   PriceIndex8            62035 non-null  object\n",
      " 3   ListDate               62035 non-null  object\n",
      " 4   Material               62035 non-null  object\n",
      " 5   PriceIndex9            62035 non-null  int64 \n",
      " 6   Agency                 62035 non-null  object\n",
      " 7   AreaIncomeType         62035 non-null  object\n",
      " 8   EnvRating              62035 non-null  object\n",
      " 9   PriceIndex7            62035 non-null  object\n",
      " 10  ExpeditedListing       62035 non-null  int64 \n",
      " 11  PriceIndex4            62035 non-null  object\n",
      " 12  PriceIndex1            62035 non-null  object\n",
      " 13  PriceIndex6            62035 non-null  object\n",
      " 14  PRIMEUNIT              62035 non-null  object\n",
      " 15  Channel                62035 non-null  object\n",
      " 16  Zip                    62035 non-null  int64 \n",
      " 17  InsurancePremiumIndex  62035 non-null  int64 \n",
      " 18  PlotType               62035 non-null  object\n",
      " 19  Architecture           62035 non-null  object\n",
      " 20  PriceIndex3            62035 non-null  object\n",
      " 21  Region                 62035 non-null  object\n",
      " 22  PriceIndex5            62035 non-null  object\n",
      " 23  SubModel               62035 non-null  object\n",
      " 24  Facade                 62035 non-null  object\n",
      " 25  State                  62035 non-null  object\n",
      " 26  NormalisedPopulation   62035 non-null  int64 \n",
      " 27  BuildYear              62035 non-null  int64 \n",
      " 28  RegionType             62035 non-null  object\n",
      " 29  PropertyAge            62035 non-null  int64 \n",
      " 30  PriceIndex2            62035 non-null  object\n",
      "dtypes: int64(8), object(23)\n",
      "memory usage: 14.7+ MB\n"
     ]
    }
   ],
   "source": [
    "train.info()"
   ]
  },
  {
   "cell_type": "code",
   "execution_count": 5,
   "id": "74b74e9b",
   "metadata": {},
   "outputs": [],
   "source": [
    "cat_to_numeric=['PriceIndex'+str(i) for i in range(1,10)]"
   ]
  },
  {
   "cell_type": "code",
   "execution_count": 6,
   "id": "81fd9c4a",
   "metadata": {},
   "outputs": [],
   "source": [
    "train['data']='train'\n",
    "test['data']='test'\n",
    "\n",
    "all_data=pd.concat([train,test],0,sort=False)"
   ]
  },
  {
   "cell_type": "code",
   "execution_count": 7,
   "id": "7a0acce2",
   "metadata": {},
   "outputs": [],
   "source": [
    "for col in cat_to_numeric:\n",
    "    all_data[col]=pd.to_numeric(all_data[col],errors='coerce')\n",
    "    all_data[col]=all_data[col].fillna(all_data.loc[all_data['data']=='train',col].median())"
   ]
  },
  {
   "cell_type": "code",
   "execution_count": 8,
   "id": "a47b8b8f",
   "metadata": {},
   "outputs": [],
   "source": [
    "cat_cols=['ListDate','InteriorsStyle','Material', 'Agency', 'AreaIncomeType',\n",
    "       'EnvRating', 'PRIMEUNIT', 'Channel', 'PlotType', 'Architecture',\n",
    "       'Region', 'SubModel', 'Facade', 'State', 'RegionType','Zip']"
   ]
  },
  {
   "cell_type": "code",
   "execution_count": 9,
   "id": "22b91621",
   "metadata": {},
   "outputs": [],
   "source": [
    "for col in cat_cols:\n",
    "    k=all_data[col].value_counts()\n",
    "    cats=k[k>=1000].index[:-1]\n",
    "    \n",
    "    for cat in cats:\n",
    "        name=col+'_'+str(cat)\n",
    "        all_data[name]=(all_data[col]==cat).astype(int)\n",
    "        \n",
    "    del all_data[col]"
   ]
  },
  {
   "cell_type": "code",
   "execution_count": 10,
   "id": "c6fd096c",
   "metadata": {},
   "outputs": [
    {
     "data": {
      "text/plain": [
       "(72983, 125)"
      ]
     },
     "execution_count": 10,
     "metadata": {},
     "output_type": "execute_result"
    }
   ],
   "source": [
    "all_data.shape"
   ]
  },
  {
   "cell_type": "code",
   "execution_count": 11,
   "id": "314c8cdd",
   "metadata": {},
   "outputs": [],
   "source": [
    "target='Junk'"
   ]
  },
  {
   "cell_type": "code",
   "execution_count": 12,
   "id": "55a3767f",
   "metadata": {},
   "outputs": [],
   "source": [
    "x_train=all_data.drop([target,'data'],1)[all_data['data']=='train']\n",
    "y_train=all_data[target][all_data['data']=='train']\n",
    "x_test=all_data.drop([target,'data'],1)[all_data['data']=='test']"
   ]
  },
  {
   "cell_type": "markdown",
   "id": "ef23cc6b",
   "metadata": {},
   "source": [
    "# Model Fitting"
   ]
  },
  {
   "cell_type": "code",
   "execution_count": 13,
   "id": "2f83ac8b",
   "metadata": {},
   "outputs": [],
   "source": [
    "clf = RandomForestClassifier()"
   ]
  },
  {
   "cell_type": "code",
   "execution_count": 14,
   "id": "798a7b44",
   "metadata": {},
   "outputs": [],
   "source": [
    "param_dist = {\"n_estimators\":[100,200,300,500,700,1000],\n",
    "              \"max_features\": [5,10,20,25,30,35],\n",
    "              \"bootstrap\": [True, False],\n",
    "              'class_weight':[None,'balanced'], \n",
    "                'criterion':['entropy','gini'],\n",
    "                'max_depth':[None,5,10,15,20,30,50,70],\n",
    "                'min_samples_leaf':[1,2,5,10,15,20], \n",
    "                'min_samples_split':[2,5,10,15,20]\n",
    "                  }"
   ]
  },
  {
   "cell_type": "code",
   "execution_count": 15,
   "id": "e736fac4",
   "metadata": {},
   "outputs": [],
   "source": [
    "random_search = RandomizedSearchCV(clf, param_distributions=param_dist,\n",
    "                                   n_iter=10,\n",
    "                                   scoring='roc_auc',\n",
    "                                   cv=5,\n",
    "                                  n_jobs=-1,verbose=20)"
   ]
  },
  {
   "cell_type": "code",
   "execution_count": 16,
   "id": "63385d30",
   "metadata": {},
   "outputs": [
    {
     "name": "stdout",
     "output_type": "stream",
     "text": [
      "Fitting 5 folds for each of 10 candidates, totalling 50 fits\n"
     ]
    },
    {
     "data": {
      "text/plain": [
       "RandomizedSearchCV(cv=5, estimator=RandomForestClassifier(), n_jobs=-1,\n",
       "                   param_distributions={'bootstrap': [True, False],\n",
       "                                        'class_weight': [None, 'balanced'],\n",
       "                                        'criterion': ['entropy', 'gini'],\n",
       "                                        'max_depth': [None, 5, 10, 15, 20, 30,\n",
       "                                                      50, 70],\n",
       "                                        'max_features': [5, 10, 20, 25, 30, 35],\n",
       "                                        'min_samples_leaf': [1, 2, 5, 10, 15,\n",
       "                                                             20],\n",
       "                                        'min_samples_split': [2, 5, 10, 15, 20],\n",
       "                                        'n_estimators': [100, 200, 300, 500,\n",
       "                                                         700, 1000]},\n",
       "                   scoring='roc_auc', verbose=20)"
      ]
     },
     "execution_count": 16,
     "metadata": {},
     "output_type": "execute_result"
    }
   ],
   "source": [
    "random_search.fit(x_train,y_train)"
   ]
  },
  {
   "cell_type": "code",
   "execution_count": 17,
   "id": "89aaaa29",
   "metadata": {},
   "outputs": [],
   "source": [
    "def report(results, n_top=3):\n",
    "    for i in range(1, n_top + 1):\n",
    "        candidates = np.flatnonzero(results['rank_test_score'] == i)\n",
    "        for candidate in candidates:\n",
    "            print(\"Model with rank: {0}\".format(i))\n",
    "            print(\"Mean validation score: {0:.5f} (std: {1:.5f})\".format(\n",
    "                  results['mean_test_score'][candidate],\n",
    "                  results['std_test_score'][candidate]))\n",
    "            print(\"Parameters: {0}\".format(results['params'][candidate]))\n",
    "            print(\"\")"
   ]
  },
  {
   "cell_type": "code",
   "execution_count": 18,
   "id": "3d58d53b",
   "metadata": {},
   "outputs": [
    {
     "data": {
      "text/plain": [
       "RandomForestClassifier(criterion='entropy', max_features=20,\n",
       "                       min_samples_leaf=15, n_estimators=1000)"
      ]
     },
     "execution_count": 18,
     "metadata": {},
     "output_type": "execute_result"
    }
   ],
   "source": [
    "random_search.best_estimator_"
   ]
  },
  {
   "cell_type": "code",
   "execution_count": 19,
   "id": "1a668101",
   "metadata": {},
   "outputs": [
    {
     "name": "stdout",
     "output_type": "stream",
     "text": [
      "Model with rank: 1\n",
      "Mean validation score: 0.76397 (std: 0.00812)\n",
      "Parameters: {'n_estimators': 1000, 'min_samples_split': 2, 'min_samples_leaf': 15, 'max_features': 20, 'max_depth': None, 'criterion': 'entropy', 'class_weight': None, 'bootstrap': True}\n",
      "\n",
      "Model with rank: 2\n",
      "Mean validation score: 0.76394 (std: 0.00721)\n",
      "Parameters: {'n_estimators': 300, 'min_samples_split': 10, 'min_samples_leaf': 20, 'max_features': 35, 'max_depth': 15, 'criterion': 'gini', 'class_weight': 'balanced', 'bootstrap': True}\n",
      "\n",
      "Model with rank: 3\n",
      "Mean validation score: 0.76305 (std: 0.00786)\n",
      "Parameters: {'n_estimators': 300, 'min_samples_split': 10, 'min_samples_leaf': 20, 'max_features': 25, 'max_depth': 50, 'criterion': 'entropy', 'class_weight': 'balanced', 'bootstrap': True}\n",
      "\n",
      "Model with rank: 4\n",
      "Mean validation score: 0.76115 (std: 0.00722)\n",
      "Parameters: {'n_estimators': 300, 'min_samples_split': 20, 'min_samples_leaf': 5, 'max_features': 5, 'max_depth': 50, 'criterion': 'entropy', 'class_weight': None, 'bootstrap': True}\n",
      "\n",
      "Model with rank: 5\n",
      "Mean validation score: 0.76060 (std: 0.00766)\n",
      "Parameters: {'n_estimators': 700, 'min_samples_split': 20, 'min_samples_leaf': 20, 'max_features': 20, 'max_depth': 10, 'criterion': 'gini', 'class_weight': 'balanced', 'bootstrap': False}\n",
      "\n"
     ]
    }
   ],
   "source": [
    "report(random_search.cv_results_,5)"
   ]
  },
  {
   "cell_type": "code",
   "execution_count": 20,
   "id": "a5ae6ad4",
   "metadata": {},
   "outputs": [],
   "source": [
    "forest=RandomForestClassifier(**{'n_estimators': 300, 'min_samples_split': 10, 'min_samples_leaf': 20, 'max_features': 35, 'max_depth': 15, 'criterion': 'gini', 'class_weight': 'balanced', 'bootstrap': True}\n",
    ")"
   ]
  },
  {
   "cell_type": "code",
   "execution_count": 21,
   "id": "be7a90f6",
   "metadata": {},
   "outputs": [
    {
     "data": {
      "text/plain": [
       "RandomForestClassifier(class_weight='balanced', max_depth=15, max_features=35,\n",
       "                       min_samples_leaf=20, min_samples_split=10,\n",
       "                       n_estimators=300)"
      ]
     },
     "execution_count": 21,
     "metadata": {},
     "output_type": "execute_result"
    }
   ],
   "source": [
    "forest.fit(x_train,y_train)"
   ]
  },
  {
   "cell_type": "code",
   "execution_count": 22,
   "id": "b041aac3",
   "metadata": {},
   "outputs": [],
   "source": [
    "Final=pd.DataFrame({target:forest.predict(x_test)})"
   ]
  },
  {
   "cell_type": "code",
   "execution_count": 23,
   "id": "f4e2a322",
   "metadata": {},
   "outputs": [],
   "source": [
    "Final.to_csv('sample_submission.csv',index=False)"
   ]
  }
 ],
 "metadata": {
  "kernelspec": {
   "display_name": "Python 3",
   "language": "python",
   "name": "python3"
  },
  "language_info": {
   "codemirror_mode": {
    "name": "ipython",
    "version": 3
   },
   "file_extension": ".py",
   "mimetype": "text/x-python",
   "name": "python",
   "nbconvert_exporter": "python",
   "pygments_lexer": "ipython3",
   "version": "3.8.8"
  }
 },
 "nbformat": 4,
 "nbformat_minor": 5
}
